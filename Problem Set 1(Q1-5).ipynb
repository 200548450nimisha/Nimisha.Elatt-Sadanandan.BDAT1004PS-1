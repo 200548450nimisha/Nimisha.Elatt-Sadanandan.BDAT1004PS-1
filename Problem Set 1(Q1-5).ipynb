{
 "cells": [
  {
   "cell_type": "markdown",
   "id": "c1ef2d71",
   "metadata": {},
   "source": [
    "# Question 1 \n",
    "\n",
    "The data types are \n",
    "5 - Int32\n",
    "5.0 - Double\n",
    "5>1 - Boolean\n",
    "'5' - String\n",
    "5 * 2 - Int32\n",
    "'5'* 2 - String\n",
    "'5' + '2' - String\n",
    "5/2 - Int32\n",
    "5%2 - Double\n",
    "{5,2,1} - List\n",
    "5 == 3 - Boolean\n",
    "Pi (the number) - Double"
   ]
  },
  {
   "cell_type": "markdown",
   "id": "c02ffa5b",
   "metadata": {},
   "source": [
    "# Question 2\n",
    "\n",
    "Write (and evaluate) C# expressions that answer these questions: \n",
    "\n",
    "a. How many letters are there in'Supercalifragilisticexpialidocious'? \n",
    "b. Does 'Supercalifragilisticexpialidocious' contain 'ice' as a substring? \n",
    "c. Which of the following words is the longest: Supercalifragilisticexpialidocious, Honorificabilitudinitatibus, or     \n",
    "   Bababadalgharaghtakamminarronnkonn? \n",
    "d. Which composer comes first in the dictionary: 'Berlioz', 'Borodin', 'Brian', 'Bartok', 'Bellini', 'Buxtehude', 'Bernstein'.   \n",
    "   Which one comes last? "
   ]
  },
  {
   "cell_type": "markdown",
   "id": "6466d3cb",
   "metadata": {},
   "source": [
    "//Question 2a\n",
    "\n",
    "string txt = \"Supercalifragilisticexpialidocious\";\n",
    "Console.WriteLine(\"The length of the txt string is: \" + txt.Length);\n"
   ]
  },
  {
   "cell_type": "code",
   "execution_count": 4,
   "id": "88cbf721",
   "metadata": {},
   "outputs": [
    {
     "name": "stdout",
     "output_type": "stream",
     "text": [
      "Word found!\r\n"
     ]
    }
   ],
   "source": [
    "//Question 2b\n",
    "\n",
    "\n",
    "\n",
    "      string s = \"Supercalifragilisticexpialidocious!\";\n",
    "\n",
    "      if (s.Contains(\"ice\") == true) {\n",
    "       Console.WriteLine(\"Word found!\");\n",
    "      } else {\n",
    "       Console.WriteLine(\"Word not found!\");\n",
    "      }\n",
    "   \n"
   ]
  },
  {
   "cell_type": "code",
   "execution_count": 5,
   "id": "1125e7cd",
   "metadata": {
    "scrolled": true
   },
   "outputs": [
    {
     "name": "stdout",
     "output_type": "stream",
     "text": [
      "True\r\n"
     ]
    }
   ],
   "source": [
    "//Question 2c\n",
    "\n",
    "\n",
    "        String str = \"Supercalifragilisticexpialidocious\";\n",
    "        String substr1 = \"ice\";\n",
    "        String substr2 = \"ice\";\n",
    "  \n",
    "        // using String.Contains() Method\n",
    "        Console.WriteLine(str.Contains(substr1));\n",
    "  \n",
    "        \n",
    "\n"
   ]
  },
  {
   "cell_type": "code",
   "execution_count": 21,
   "id": "54275fe9",
   "metadata": {},
   "outputs": [
    {
     "name": "stdout",
     "output_type": "stream",
     "text": [
      "Original List\n",
      "\n",
      "Berlioz, Borodin, Brian, Bartok, Bellini, Buxtehud, Bernstein\n",
      "\n",
      "first composer\n",
      "\n",
      "Bartok\n",
      "\n",
      "last composer\n",
      "\n",
      "Buxtehud\n"
     ]
    }
   ],
   "source": [
    "//Question 2d\n",
    "\n",
    "{\n",
    "        List<string> list1 = new List<string>();\n",
    "          \n",
    "        list1.Add(\"Berlioz\");\n",
    "        list1.Add(\"Borodin\");\n",
    "        list1.Add(\"Brian\");\n",
    "        list1.Add(\"Bartok\");\n",
    "        list1.Add(\"Bellini\");\n",
    "        list1.Add(\"Buxtehud\");\n",
    "        list1.Add(\"Bernstein\");\n",
    "  \n",
    "        Console.WriteLine(\"Original List\\n\");\n",
    "    \n",
    "        Console.WriteLine(string.Join(\", \", list1));\n",
    "          \n",
    "        list1.Sort();\n",
    "        \n",
    "        var first = list1[0];\n",
    "        var last = list1[6];\n",
    "        \n",
    "        \n",
    "        Console.WriteLine(\"\\nfirst composer\\n\");\n",
    "        Console.WriteLine(first);\n",
    "        \n",
    "        Console.WriteLine(\"\\nlast composer\\n\");\n",
    "          \n",
    "        Console.WriteLine(last);\n",
    "}\n",
    "      "
   ]
  },
  {
   "cell_type": "markdown",
   "id": "fdec8335",
   "metadata": {},
   "source": [
    "# Question 3\n",
    "\n",
    "Implement function triangleArea(a,b,c) that takes as input the lengths of the 3 sides of a triangle and returns the area of the triangle. \n",
    "By Heron's formula, the area of a triangle with side lengths a, b, and c is \n",
    "s(s − a)(s − b)(s − c), where s = (a + b + c)/2. "
   ]
  },
  {
   "cell_type": "code",
   "execution_count": 7,
   "id": "7b3716a0",
   "metadata": {},
   "outputs": [
    {
     "name": "stdout",
     "output_type": "stream",
     "text": [
      "4.5\n",
      "3.8971143\n",
      "3.8971143\n"
     ]
    }
   ],
   "source": [
    "// Question 3\n",
    "\n",
    "public static float findArea(float a, float b, float c)\n",
    "{                                \n",
    "    float s;\n",
    "    float area;\n",
    "    s = (a + b + c) / 2;\n",
    "    Console.WriteLine(s);\n",
    "    area= (float)Math.Sqrt(s* (s-a) * (s-b) * (s-c));\n",
    "  \n",
    "    Console.WriteLine(area);\n",
    "    return area;\n",
    "\n",
    "}\n",
    "float x;\n",
    "x=findArea(3,3,3);\n",
    "Console.WriteLine(x);\n",
    "          \n"
   ]
  },
  {
   "cell_type": "markdown",
   "id": "2a22b394",
   "metadata": {},
   "source": [
    " # Question 4\n",
    " Write a program in C# Sharp to separate odd and even integers in separate arrays. "
   ]
  },
  {
   "cell_type": "code",
   "execution_count": 18,
   "id": "962c3112",
   "metadata": {},
   "outputs": [
    {
     "name": "stdout",
     "output_type": "stream",
     "text": [
      "\n",
      "\n",
      "Separate odd and even integers in separate arrays:\n",
      "------------------------------------------------------\n",
      "Input the number of elements to be stored in the array :Input -1 elements in the array :\n",
      "\n",
      "The Even elements are : \n",
      "\n",
      "The Odd elements are :\n",
      "\n",
      "\n"
     ]
    }
   ],
   "source": [
    "// Question 4\n",
    " \n",
    " {\n",
    "    int[] arr1 = new int[10];\n",
    "    int[] arr2 = new int[10];\n",
    "    int[] arr3 = new int[10];\n",
    "    int i,j=0,k=0,n;\n",
    "\n",
    "       Console.Write(\"\\n\\nSeparate odd and even integers in separate arrays:\\n\");\n",
    "       Console.Write(\"------------------------------------------------------\\n\");\t\n",
    "\n",
    "       Console.Write(\"Input the number of elements to be stored in the array :\");\n",
    "       n = Convert.ToInt32(Console.Read());\n",
    "   \n",
    "       Console.Write(\"Input {0} elements in the array :\\n\",n);\n",
    "       for(i=0;i<n;i++)\n",
    "            {\n",
    "      Console.Write(\"element - {0} : \",i);\n",
    "       arr1[i] = Convert.ToInt32(Console.ReadLine()); \t\t  \n",
    "         \n",
    "     }\n",
    "\n",
    "    for(i=0;i<n;i++)\n",
    "    {\n",
    " if (arr1[i]%2 == 0)\n",
    "    {\n",
    "    arr2[j] = arr1[i];\n",
    "    j++;\n",
    "    }\n",
    "    else\n",
    "   {\n",
    "    arr3[k] = arr1[i];\n",
    "    k++;\n",
    "    }\n",
    "    }\n",
    "\n",
    "    Console.Write(\"\\nThe Even elements are : \\n\");\n",
    "    for(i=0;i<j;i++)\n",
    "    {\n",
    "    Console.Write(\"{0} \",arr2[i]);\n",
    "    }\n",
    "\n",
    "    Console.Write(\"\\nThe Odd elements are :\\n\");\n",
    "    for(i=0;i<k;i++)\n",
    "    {\n",
    "    Console.Write(\"{0} \", arr3[i]);\n",
    "    }\n",
    "    Console.Write(\"\\n\\n\");\t\n",
    "   }"
   ]
  },
  {
   "cell_type": "markdown",
   "id": "6eb164a1",
   "metadata": {},
   "source": [
    "# Question 5\n",
    "\n",
    "a) Write a function inside(x,y,x1,y1,x2,y2) that returns True or False depending on whether the point (x,y) lies in the  \n",
    "   rectangle with lower left corner (x1,y1) and upper right corner (x2,y2). \n",
    "   \n",
    "b) Use function inside() from part a. to write an expression that tests whether the point (1,1) lies in both of the \n",
    "   following rectangles: one with lower left corner (0.3, 0.5) and upper right corner (1.1, 0.7) and the other with lower   \n",
    "   left corner (0.5, 0.2) and upper right corner (1.1, 2). "
   ]
  },
  {
   "cell_type": "code",
   "execution_count": 9,
   "id": "ddf62741",
   "metadata": {},
   "outputs": [
    {
     "name": "stdout",
     "output_type": "stream",
     "text": [
      "Yes\n",
      "No"
     ]
    }
   ],
   "source": [
    "// Question 5a\n",
    "static bool inside(int x1, int y1, int x2,int y2, int x, int y)\n",
    "{\n",
    "if (x > x1 && x < x2 &&y > y1 && y < y2)\n",
    "return true;\n",
    "return false;\n",
    "}\n",
    "\n",
    "{\n",
    "// corners of rectangle\n",
    "    int x1 = 0, y1 = 0,x2 = 2, y2 = 3;\n",
    "\n",
    "// given point\n",
    "    int x = 1, y = 1;\n",
    "    \n",
    "if (inside(x1, y1, x2, y2, x, y))\n",
    "    Console.Write(\"Yes\");\n",
    "    else\n",
    "        Console.Write(\"No\");\n",
    "}\n",
    "//Second set of data\n",
    "// corners of rectangle\n",
    "    int x1 = 0, y1 = 0,x2 = 2, y2 = 3;\n",
    "\n",
    "// given point\n",
    "    int x = -1, y = -1;\n",
    "    \n",
    "if (inside(x1, y1, x2, y2, x, y))\n",
    "    Console.Write(\"\\nYes\");\n",
    "    else\n",
    "        Console.Write(\"\\nNo\");\n",
    "\n"
   ]
  },
  {
   "cell_type": "code",
   "execution_count": 10,
   "id": "dfb01c9d",
   "metadata": {},
   "outputs": [
    {
     "name": "stdout",
     "output_type": "stream",
     "text": [
      "No"
     ]
    }
   ],
   "source": [
    "// Question 5b\n",
    "\n",
    "static bool inside(double x1, double y1, double x2,double y2,double x3, double y3, double x4, double y4, double x, double y)\n",
    "{\n",
    "if (x > x1 && x < x2 &&y > y1 && y < y2 && x > x3 && x < x4 && y > y3 && y < y4)\n",
    "return true;\n",
    "return false;\n",
    "}\n",
    "\n",
    "{\n",
    "// corners of rectangle\n",
    "    double x1 = 0.3, y1 = 0.5,x2 = 1.1, y2 = 0.7;\n",
    "    double x3 = 0.5, y3 = 0.2,x4 = 1.1, y4 = 2;\n",
    "\n",
    "// given point\n",
    "    double x = 1, y = 1;\n",
    "    \n",
    "if (inside(x1, y1, x2, y2,x3,y3,x4,y4,x, y))\n",
    "    Console.Write(\"Yes\");\n",
    "    else\n",
    "        Console.Write(\"No\");\n",
    "}\n"
   ]
  }
 ],
 "metadata": {
  "kernelspec": {
   "display_name": ".NET (C#)",
   "language": "C#",
   "name": ".net-csharp"
  },
  "language_info": {
   "file_extension": ".cs",
   "mimetype": "text/x-csharp",
   "name": "C#",
   "pygments_lexer": "csharp",
   "version": "10.0"
  }
 },
 "nbformat": 4,
 "nbformat_minor": 5
}
