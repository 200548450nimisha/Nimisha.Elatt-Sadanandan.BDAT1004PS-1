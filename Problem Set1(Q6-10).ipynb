{
 "cells": [
  {
   "cell_type": "markdown",
   "id": "07bc3237",
   "metadata": {},
   "source": [
    "# Question 6 \n",
    "\n",
    "Write a function pig() that takes a word (i.e., a string) as input and returns its pig- Latin form."
   ]
  },
  {
   "cell_type": "code",
   "execution_count": 2,
   "id": "fc37e6a3",
   "metadata": {},
   "outputs": [
    {
     "name": "stdout",
     "output_type": "stream",
     "text": [
      "appyhay\n",
      "imishaNay\n"
     ]
    }
   ],
   "source": [
    "# Question 6\n",
    "def pig(x):\n",
    "  words = x.split()\n",
    "  pigged_x = []\n",
    "\n",
    "  for word in words:\n",
    "    word = word[1:] + word[0] + 'ay'\n",
    "    pigged_x.append(word)\n",
    "\n",
    "  return ' '.join(pigged_x)\n",
    "\n",
    "print(pig(\"happy\"))\n",
    "print(pig(\"Nimisha\"))\n"
   ]
  },
  {
   "cell_type": "markdown",
   "id": "34930136",
   "metadata": {},
   "source": [
    "# Question 7\n",
    "\n",
    "Write a function bldcount() that reads the file with name name and reports (i.e., prints) how many patients there are in each bloodtype. "
   ]
  },
  {
   "cell_type": "code",
   "execution_count": 12,
   "id": "68d047c5",
   "metadata": {},
   "outputs": [
    {
     "name": "stdout",
     "output_type": "stream",
     "text": [
      "bloodtype.txt\n",
      "There are 15 patients of blood type A\n",
      "There are 1 patients of blood type B\n",
      "There are 13 patients of blood type AB\n",
      "There are 15 patients of blood type O\n",
      "There are 0 patients of blood type OO\n"
     ]
    }
   ],
   "source": [
    "##Question7\n",
    "def bldcount(filename):\n",
    "    print(filename)\n",
    "    x = open(filename,\"r\")\n",
    "    words=x.read().split()\n",
    "    count_A,count_B,count_AB,count_O,count_OO =0,0,0,0,0\n",
    "    for i in words:\n",
    "        if i =='A':\n",
    "            count_A+=1\n",
    "        elif i=='B':\n",
    "            count_B+=1\n",
    "        elif i=='AB':\n",
    "            count_AB+=1\n",
    "        elif i=='O':\n",
    "             count_O+=1\n",
    "        else:\n",
    "            count_OO+=1\n",
    "    print(\"There are\",count_A,\"patients of blood type A\")\n",
    "    print(\"There are\",count_B,\"patients of blood type B\")\n",
    "    print(\"There are\",count_AB,\"patients of blood type AB\")\n",
    "    print(\"There are\",count_O,\"patients of blood type O\")\n",
    "    print(\"There are\",count_OO,\"patients of blood type OO\")\n",
    "                        \n",
    "bldcount(\"bloodtype.txt\")    \n",
    "                            \n",
    "        \n"
   ]
  },
  {
   "cell_type": "markdown",
   "id": "01204eb0",
   "metadata": {},
   "source": [
    "# Question 8\n",
    "\n",
    "Write a function curconv() that takes as input:  1. a currency represented using a string (e.g., 'JPY' for the Japanese Yen or 'EUR' for the Euro), 2. an amount  and then converts and returns the amount in US dollars. "
   ]
  },
  {
   "cell_type": "code",
   "execution_count": 25,
   "id": "b6447c38",
   "metadata": {},
   "outputs": [
    {
     "data": {
      "text/plain": [
       "1.241401"
      ]
     },
     "execution_count": 25,
     "metadata": {},
     "output_type": "execute_result"
    }
   ],
   "source": [
    "def curconv(currency,amount):\n",
    "    f = open(\"currencies.txt\", \"r\")\n",
    "    g=f.readlines()\n",
    "    list1=[]\n",
    "    list2=[]\n",
    "    list3=[]\n",
    "    f.close()\n",
    "    for i in g:\n",
    "        j=0\n",
    "        k=i.split('\\t')\n",
    "        for j in range(len(k)-2):\n",
    "            list1.append(k[j])\n",
    "            list2.append(float(k[j+1]))\n",
    "            list3.append(k[j+2].strip())\n",
    "    h=list1.index(currency)\n",
    "    return amount*list2[h]\n",
    "curconv(\"EUR\",100)\n",
    "curconv(\"JPY\",100)\n",
    "\n",
    "    "
   ]
  },
  {
   "cell_type": "markdown",
   "id": "263bcf18",
   "metadata": {},
   "source": [
    "# Question 9\n",
    "\n",
    "Each of the following will cause an exception (an error). Identify what type of exception each will cause. \n",
    "\n",
    "1.Trying to add incompatible variables, as in adding 6 + ‘a’\n",
    "answer) Unsupported type\n",
    "2.Referring to the 12th item of a list that has only 10 items\n",
    "answer) Out of index\n",
    "3.Using a value that is out of range for a function’s input, such as calling math.sqrt(-1.0) \n",
    "answer)domain error\n",
    "4.Using an undeclared variable, such as print(x) when x has not been defined \n",
    "answer)Variable not defined\n",
    "5.Trying to open a file that does not exist, such as mistyping the file name or looking in the wrong directory. \n",
    "answer)No such dictionary found\n"
   ]
  },
  {
   "cell_type": "markdown",
   "id": "40e6e262",
   "metadata": {},
   "source": [
    "# Question 10\n",
    "\n",
    "Write a function called frequencies() that takes a string as its only parameter, and returns a list of integers, showing the number of times each character appears in the text. Your function may ignore any characters that are not in letters."
   ]
  },
  {
   "cell_type": "code",
   "execution_count": 31,
   "id": "c4bd86ba",
   "metadata": {},
   "outputs": [],
   "source": [
    "def frequencies(text):\n",
    "    \n",
    "#set of alphabets\n",
    "    alphabets = ('a','b','c','d','e','f','g','h','i','j','k','l','m','n','o','p','q','r','s','t','u','v','w','x','y','z')\n",
    "    total_characters = []\n",
    "    alpha_dict = {}\n",
    "    #picking character from every word of input and appending it to total_character list.\n",
    "    for word in text:\n",
    "        for char in word:\n",
    "            if char.isalpha():\n",
    "                total_characters.append(char)\n",
    "    #checking if the alphabet is present in the total_character list than assigning it it's count otherwise 0\n",
    "    for char in alphabets:\n",
    "        if char in total_characters:\n",
    "            alpha_dict[char] = total_characters.count(char)\n",
    "        else:\n",
    "            alpha_dict[char] = 0\n",
    "            \n",
    "    #printing out the values(count) of the alphabets present in the total_character list\n",
    "    print(list(alpha_dict.values()))\n",
    "    \n",
    "   "
   ]
  },
  {
   "cell_type": "code",
   "execution_count": 33,
   "id": "59db9aad",
   "metadata": {},
   "outputs": [
    {
     "name": "stdout",
     "output_type": "stream",
     "text": [
      "[1, 1, 1, 3, 5, 1, 1, 2, 1, 0, 1, 0, 1, 2, 4, 0, 1, 2, 0, 2, 1, 0, 1, 1, 0, 0]\n"
     ]
    }
   ],
   "source": [
    "frequencies ('The quick red fox got bored and went home')"
   ]
  },
  {
   "cell_type": "code",
   "execution_count": 32,
   "id": "2de90178",
   "metadata": {},
   "outputs": [
    {
     "name": "stdout",
     "output_type": "stream",
     "text": [
      "[1, 0, 0, 0, 1, 0, 0, 0, 0, 0, 0, 1, 0, 0, 0, 2, 0, 0, 0, 0, 0, 0, 0, 0, 0, 0]\n"
     ]
    }
   ],
   "source": [
    "frequencies('apple')"
   ]
  }
 ],
 "metadata": {
  "kernelspec": {
   "display_name": "Python 3 (ipykernel)",
   "language": "python",
   "name": "python3"
  },
  "language_info": {
   "codemirror_mode": {
    "name": "ipython",
    "version": 3
   },
   "file_extension": ".py",
   "mimetype": "text/x-python",
   "name": "python",
   "nbconvert_exporter": "python",
   "pygments_lexer": "ipython3",
   "version": "3.9.12"
  }
 },
 "nbformat": 4,
 "nbformat_minor": 5
}
